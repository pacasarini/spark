{
  "nbformat": 4,
  "nbformat_minor": 0,
  "metadata": {
    "colab": {
      "provenance": [],
      "include_colab_link": true
    },
    "kernelspec": {
      "name": "python3",
      "display_name": "Python 3"
    },
    "language_info": {
      "name": "python"
    }
  },
  "cells": [
    {
      "cell_type": "markdown",
      "metadata": {
        "id": "view-in-github",
        "colab_type": "text"
      },
      "source": [
        "<a href=\"https://colab.research.google.com/github/pacasarini/spark/blob/main/3_Spark_GraphX.ipynb\" target=\"_parent\"><img src=\"https://colab.research.google.com/assets/colab-badge.svg\" alt=\"Open In Colab\"/></a>"
      ]
    },
    {
      "cell_type": "markdown",
      "metadata": {
        "id": "1aowaj8ORhDc"
      },
      "source": [
        "\n",
        "## Configurando o Spark ##"
      ]
    },
    {
      "cell_type": "code",
      "execution_count": null,
      "metadata": {
        "colab": {
          "base_uri": "https://localhost:8080/"
        },
        "id": "GgnAEDWrL3b5",
        "outputId": "be3bd627-73b2-41c1-f360-7b94fdc37b1a"
      },
      "outputs": [
        {
          "output_type": "stream",
          "name": "stdout",
          "text": [
            "people_graph_edge    spark-3.2.4-bin-hadoop3.2\n",
            "people_graph_vertex  spark-3.2.4-bin-hadoop3.2.tgz\n"
          ]
        }
      ],
      "source": [
        "!ls\n",
        "!rm -rf *\n",
        "#Instacao e configuracao do Java 8\n",
        "!apt-get install openjdk-8-jdk-headless -qq > /dev/null\n",
        "#Download do Apache Spark\n",
        "!wget -q https://apache.osuosl.org/spark/spark-3.2.4/spark-3.2.4-bin-hadoop3.2.tgz\n",
        "#Descompatacao do Apache Spark\n",
        "!tar xf spark-3.2.4-bin-hadoop3.2.tgz\n",
        "#Instalacao do Findspark\n",
        "!pip install -q findspark"
      ]
    },
    {
      "cell_type": "code",
      "execution_count": null,
      "metadata": {
        "id": "ksZSlBaML4mt"
      },
      "outputs": [],
      "source": [
        "import os\n",
        "os.environ[\"JAVA_HOME\"] = \"/usr/lib/jvm/java-8-openjdk-amd64\"\n",
        "os.environ[\"SPARK_HOME\"] = \"/content/spark-3.2.4-bin-hadoop3.2\""
      ]
    },
    {
      "cell_type": "code",
      "source": [
        "!curl -L -o \"/content/spark-3.2.4-bin-hadoop3.2/jars/graphframes-0.8.2-spark3.2-s_2.12.jar\" https://repos.spark-packages.org/graphframes/graphframes/0.8.2-spark3.2-s_2.12/graphframes-0.8.2-spark3.2-s_2.12.jar"
      ],
      "metadata": {
        "colab": {
          "base_uri": "https://localhost:8080/"
        },
        "id": "gAugYR_6VsMJ",
        "outputId": "b9d5deb5-c5da-4e11-d0b3-49e6da847640"
      },
      "execution_count": null,
      "outputs": [
        {
          "output_type": "stream",
          "name": "stdout",
          "text": [
            "  % Total    % Received % Xferd  Average Speed   Time    Time     Time  Current\n",
            "                                 Dload  Upload   Total   Spent    Left  Speed\n",
            "\r  0     0    0     0    0     0      0      0 --:--:-- --:--:-- --:--:--     0\r100  242k  100  242k    0     0   884k      0 --:--:-- --:--:-- --:--:--  886k\n"
          ]
        }
      ]
    },
    {
      "cell_type": "code",
      "execution_count": null,
      "metadata": {
        "id": "1DMAxHw4L9tB"
      },
      "outputs": [],
      "source": [
        "import findspark\n",
        "findspark.init()\n",
        "from pyspark.sql import SparkSession\n",
        "spark = SparkSession.builder.master(\"local[*]\").config(\"spark.jars.packages\", \"graphframes:graphframes:0.7.0-spark2.4-s_2.11\").getOrCreate()"
      ]
    },
    {
      "cell_type": "code",
      "source": [
        "import pyspark\n",
        "print(pyspark.__version__)"
      ],
      "metadata": {
        "colab": {
          "base_uri": "https://localhost:8080/"
        },
        "id": "_Rup-o4Hb7Tp",
        "outputId": "9c2a1d31-61ca-4533-86af-4a3a3cfceed7"
      },
      "execution_count": null,
      "outputs": [
        {
          "output_type": "stream",
          "name": "stdout",
          "text": [
            "3.2.4\n"
          ]
        }
      ]
    },
    {
      "cell_type": "code",
      "source": [
        "from graphframes import *\n",
        "\n",
        "vertices = spark.createDataFrame([\n",
        "  (1, \"Alice\", 25),\n",
        "  (2, \"Bob\", 30),\n",
        "  (3, \"Charlie\", 35),\n",
        "  (4, \"David\", 40),\n",
        "  (5, \"Eve\", 45)\n",
        "], [\"id\", \"name\", \"age\"])\n",
        "\n",
        "edges = spark.createDataFrame([\n",
        "  (1, 2, \"lovers\"),\n",
        "  (1, 2, \"friends\"),\n",
        "  (1, 3, \"friends\"),\n",
        "  (1, 4, \"friends\"),\n",
        "  (2, 3, \"friends\"),\n",
        "  (3, 4, \"friends\"),\n",
        "  (4, 5, \"friends\"),\n",
        "  (5, 4, \"advisor\"),\n",
        "  (5, 1, \"friends\"),\n",
        "  (1, 5, \"friends\")\n",
        "], [\"src\", \"dst\", \"relationship\"])\n",
        "\n",
        "g = GraphFrame(vertices, edges)"
      ],
      "metadata": {
        "id": "xt4IN2CCLrBL"
      },
      "execution_count": null,
      "outputs": []
    },
    {
      "cell_type": "code",
      "source": [
        "g.vertices.show()"
      ],
      "metadata": {
        "colab": {
          "base_uri": "https://localhost:8080/"
        },
        "id": "eyJ6gzEJfhVi",
        "outputId": "c3a7e9bd-034d-453f-bcec-b9d3e4c83218"
      },
      "execution_count": null,
      "outputs": [
        {
          "output_type": "stream",
          "name": "stdout",
          "text": [
            "+---+-------+---+\n",
            "| id|   name|age|\n",
            "+---+-------+---+\n",
            "|  1|  Alice| 25|\n",
            "|  2|    Bob| 30|\n",
            "|  3|Charlie| 35|\n",
            "|  4|  David| 40|\n",
            "|  5|    Eve| 45|\n",
            "+---+-------+---+\n",
            "\n"
          ]
        }
      ]
    },
    {
      "cell_type": "code",
      "source": [
        "g.edges.show()"
      ],
      "metadata": {
        "colab": {
          "base_uri": "https://localhost:8080/"
        },
        "id": "elM_hHeGgcVW",
        "outputId": "4a3d041d-4ca2-4c35-8157-631fe0d2cbe3"
      },
      "execution_count": null,
      "outputs": [
        {
          "output_type": "stream",
          "name": "stdout",
          "text": [
            "+---+---+------------+\n",
            "|src|dst|relationship|\n",
            "+---+---+------------+\n",
            "|  1|  2|      lovers|\n",
            "|  1|  2|     friends|\n",
            "|  1|  3|     friends|\n",
            "|  1|  4|     friends|\n",
            "|  2|  3|     friends|\n",
            "|  3|  4|     friends|\n",
            "|  4|  5|     friends|\n",
            "|  5|  4|     advisor|\n",
            "|  5|  1|     friends|\n",
            "|  1|  5|     friends|\n",
            "+---+---+------------+\n",
            "\n"
          ]
        }
      ]
    },
    {
      "cell_type": "code",
      "source": [
        "g.degrees.show()"
      ],
      "metadata": {
        "colab": {
          "base_uri": "https://localhost:8080/"
        },
        "id": "Qye43c2tggjg",
        "outputId": "145b5307-c109-488c-b296-2cfbafaeeb4a"
      },
      "execution_count": null,
      "outputs": [
        {
          "output_type": "stream",
          "name": "stdout",
          "text": [
            "+---+------+\n",
            "| id|degree|\n",
            "+---+------+\n",
            "|  1|     6|\n",
            "|  3|     3|\n",
            "|  2|     3|\n",
            "|  4|     4|\n",
            "|  5|     4|\n",
            "+---+------+\n",
            "\n"
          ]
        }
      ]
    },
    {
      "cell_type": "code",
      "source": [
        "g.inDegrees.show()"
      ],
      "metadata": {
        "colab": {
          "base_uri": "https://localhost:8080/"
        },
        "id": "BAD2Gc_2glP_",
        "outputId": "b2fcab6e-c50f-4d79-86bd-3320a4716b95"
      },
      "execution_count": null,
      "outputs": [
        {
          "output_type": "stream",
          "name": "stdout",
          "text": [
            "+---+--------+\n",
            "| id|inDegree|\n",
            "+---+--------+\n",
            "|  3|       2|\n",
            "|  2|       2|\n",
            "|  4|       3|\n",
            "|  5|       2|\n",
            "|  1|       1|\n",
            "+---+--------+\n",
            "\n"
          ]
        }
      ]
    },
    {
      "cell_type": "code",
      "source": [
        "g.outDegrees.show()"
      ],
      "metadata": {
        "colab": {
          "base_uri": "https://localhost:8080/"
        },
        "id": "ZYDTsjIqhEey",
        "outputId": "4c003e07-c85c-455d-fe90-7a5e29cc1287"
      },
      "execution_count": null,
      "outputs": [
        {
          "output_type": "stream",
          "name": "stdout",
          "text": [
            "+---+---------+\n",
            "| id|outDegree|\n",
            "+---+---------+\n",
            "|  1|        5|\n",
            "|  2|        1|\n",
            "|  5|        2|\n",
            "|  3|        1|\n",
            "|  4|        1|\n",
            "+---+---------+\n",
            "\n"
          ]
        }
      ]
    },
    {
      "cell_type": "code",
      "source": [
        "g.pageRank(maxIter=10).vertices.show()"
      ],
      "metadata": {
        "colab": {
          "base_uri": "https://localhost:8080/"
        },
        "id": "TYi67klWim-b",
        "outputId": "40f6a299-b37a-46d3-be77-c65ad8729a58"
      },
      "execution_count": null,
      "outputs": [
        {
          "output_type": "stream",
          "name": "stdout",
          "text": [
            "+---+-------+---+------------------+\n",
            "| id|   name|age|          pagerank|\n",
            "+---+-------+---+------------------+\n",
            "|  1|  Alice| 25|0.8216418845898458|\n",
            "|  2|    Bob| 30|0.4293408370632039|\n",
            "|  3|Charlie| 35|0.6555740271189773|\n",
            "|  4|  David| 40|1.5151096490823202|\n",
            "|  5|    Eve| 45| 1.578333602145653|\n",
            "+---+-------+---+------------------+\n",
            "\n"
          ]
        }
      ]
    },
    {
      "cell_type": "code",
      "source": [
        "g.shortestPaths(landmarks = ['5']).show()"
      ],
      "metadata": {
        "colab": {
          "base_uri": "https://localhost:8080/"
        },
        "id": "4T81x8I8_BB2",
        "outputId": "c86a35a8-e0c8-43ea-a862-373d07c67be3"
      },
      "execution_count": null,
      "outputs": [
        {
          "output_type": "stream",
          "name": "stdout",
          "text": [
            "+---+-------+---+---------+\n",
            "| id|   name|age|distances|\n",
            "+---+-------+---+---------+\n",
            "|  1|  Alice| 25| {5 -> 1}|\n",
            "|  2|    Bob| 30| {5 -> 3}|\n",
            "|  3|Charlie| 35| {5 -> 2}|\n",
            "|  4|  David| 40| {5 -> 1}|\n",
            "|  5|    Eve| 45| {5 -> 0}|\n",
            "+---+-------+---+---------+\n",
            "\n"
          ]
        }
      ]
    },
    {
      "cell_type": "code",
      "source": [
        "import networkx as nx\n",
        "\n",
        "def plot_graph(es):\n",
        "    g = nx.DiGraph()\n",
        "    for row in es.select('src','dst').collect():\n",
        "        g.add_edge(row['src'],row['dst'])\n",
        "\n",
        "    nx.draw(g, with_labels=True, node_color='yellow')"
      ],
      "metadata": {
        "id": "OYnct3Iuls3f"
      },
      "execution_count": null,
      "outputs": []
    },
    {
      "cell_type": "code",
      "source": [
        "plot_graph(g.edges)"
      ],
      "metadata": {
        "colab": {
          "base_uri": "https://localhost:8080/",
          "height": 516
        },
        "id": "XzdtZFZylwpK",
        "outputId": "7958d650-5e4f-4937-8666-56bc3a53d675"
      },
      "execution_count": null,
      "outputs": [
        {
          "output_type": "display_data",
          "data": {
            "text/plain": [
              "<Figure size 640x480 with 1 Axes>"
            ],
            "image/png": "[encoded data removed]"
          },
          "metadata": {}
        }
      ]
    },
    {
      "cell_type": "code",
      "source": [
        "def save_graph(path, graph):\n",
        "    \"\"\"For illustration only - clobbers existing file.\"\"\"\n",
        "    vfile = f'{path}_vertex'\n",
        "    efile = f'{path}_edge'\n",
        "    graph.vertices.write.mode('overwrite').parquet(vfile)\n",
        "    graph.edges.write.mode('overwrite').parquet(efile)\n",
        "\n",
        "def load_graph(path):\n",
        "    vfile = f'{path}_vertex'\n",
        "    efile = f'{path}_edge'\n",
        "    v = spark.read.parquet(vfile)\n",
        "    e = spark.read.parquet(efile)\n",
        "    return GraphFrame(v, e)"
      ],
      "metadata": {
        "id": "MzsyQX3cYW4N"
      },
      "execution_count": null,
      "outputs": []
    },
    {
      "cell_type": "code",
      "source": [
        "save_graph('people_graph', g)"
      ],
      "metadata": {
        "id": "pVmZLgcLYbKU"
      },
      "execution_count": null,
      "outputs": []
    },
    {
      "cell_type": "code",
      "source": [
        "g1 = load_graph('people_graph')"
      ],
      "metadata": {
        "id": "8RlyyoXlYgAI"
      },
      "execution_count": null,
      "outputs": []
    },
    {
      "cell_type": "code",
      "source": [
        "g1.vertices.count()"
      ],
      "metadata": {
        "colab": {
          "base_uri": "https://localhost:8080/"
        },
        "id": "-YlMVkaaYi3m",
        "outputId": "24696949-96b2-45e2-e58b-9690929a5257"
      },
      "execution_count": null,
      "outputs": [
        {
          "output_type": "execute_result",
          "data": {
            "text/plain": [
              "5"
            ]
          },
          "metadata": {},
          "execution_count": 118
        }
      ]
    },
    {
      "cell_type": "code",
      "source": [
        "# the function will plot the source and destination nodes and connect them by meand of undirected line\n",
        "def plot_directed_graph(edge_list):\n",
        "    gplot=nx.DiGraph()\n",
        "    edge_labels = {}\n",
        "    for row in edge_list.select(\"src\", \"dst\", \"relationship\").take(1000):\n",
        "        gplot.add_edge(row[\"src\"], row[\"dst\"])\n",
        "        edge_labels[(row[\"src\"], row[\"dst\"])] = row[\"relationship\"]\n",
        "    pos = nx.spring_layout(gplot)\n",
        "    nx.draw(gplot, pos, with_labels=True, font_weight=\"bold\", node_size=3500)\n",
        "    nx.draw_networkx_edge_labels(gplot, pos, edge_labels=edge_labels, font_color=\"green\", font_size=11, font_weight=\"bold\")\n",
        "plot_directed_graph(g.edges)"
      ],
      "metadata": {
        "colab": {
          "base_uri": "https://localhost:8080/",
          "height": 516
        },
        "id": "5ToFYFEofVex",
        "outputId": "d913ceec-4273-4bdd-80b9-ee08d5aee962"
      },
      "execution_count": null,
      "outputs": [
        {
          "output_type": "display_data",
          "data": {
            "text/plain": [
              "<Figure size 640x480 with 1 Axes>"
            ],
            "image/png": "[encoded data removed]"
          },
          "metadata": {}
        }
      ]
    },
    {
      "cell_type": "code",
      "source": [
        "g1.edges.filter(\"relationship = 'advisor'\").count()"
      ],
      "metadata": {
        "colab": {
          "base_uri": "https://localhost:8080/"
        },
        "id": "wiKqqz9Yw5PP",
        "outputId": "4aeab1c9-ee5d-4137-8f46-85908f01fbf6"
      },
      "execution_count": null,
      "outputs": [
        {
          "output_type": "execute_result",
          "data": {
            "text/plain": [
              "1"
            ]
          },
          "metadata": {},
          "execution_count": 129
        }
      ]
    },
    {
      "cell_type": "code",
      "source": [
        "g.labelPropagation(maxIter=4).show()"
      ],
      "metadata": {
        "colab": {
          "base_uri": "https://localhost:8080/"
        },
        "id": "bb1vvT8-zG1f",
        "outputId": "8748cf77-f764-4f6e-abcf-7474dc093791"
      },
      "execution_count": null,
      "outputs": [
        {
          "output_type": "stream",
          "name": "stdout",
          "text": [
            "+---+-------+---+-----+\n",
            "| id|   name|age|label|\n",
            "+---+-------+---+-----+\n",
            "|  1|  Alice| 25|    2|\n",
            "|  2|    Bob| 30|    2|\n",
            "|  3|Charlie| 35|    2|\n",
            "|  4|  David| 40|    2|\n",
            "|  5|    Eve| 45|    2|\n",
            "+---+-------+---+-----+\n",
            "\n"
          ]
        }
      ]
    }
  ]
}