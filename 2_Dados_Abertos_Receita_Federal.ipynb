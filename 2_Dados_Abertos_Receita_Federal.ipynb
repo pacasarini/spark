{
  "cells": [
    {
      "cell_type": "markdown",
      "metadata": {
        "id": "view-in-github",
        "colab_type": "text"
      },
      "source": [
        "<a href=\"https://colab.research.google.com/github/pacasarini/spark/blob/main/2_Dados_Abertos_Receita_Federal.ipynb\" target=\"_parent\"><img src=\"https://colab.research.google.com/assets/colab-badge.svg\" alt=\"Open In Colab\"/></a>"
      ]
    },
    {
      "cell_type": "markdown",
      "metadata": {
        "id": "1aowaj8ORhDc"
      },
      "source": [
        "**Configurando o Spark**"
      ]
    },
    {
      "cell_type": "code",
      "execution_count": null,
      "metadata": {
        "colab": {
          "base_uri": "https://localhost:8080/"
        },
        "id": "GgnAEDWrL3b5",
        "outputId": "dcebb05c-5d00-4f59-c641-bf4da041712f"
      },
      "outputs": [
        {
          "output_type": "stream",
          "name": "stdout",
          "text": [
            "sample_data\n"
          ]
        }
      ],
      "source": [
        "!ls\n",
        "!rm -rf *\n",
        "#Instacao e configuracao do Java 8\n",
        "!apt-get install openjdk-8-jdk-headless -qq > /dev/null\n",
        "#Download do Apache Spark\n",
        "!wget -q https://apache.osuosl.org/spark/spark-3.3.2/spark-3.3.2-bin-hadoop2.tgz\n",
        "#Descompatacao do Apache Spark\n",
        "!tar xf spark-3.3.2-bin-hadoop2.tgz\n",
        "#Instalacao do Findspark\n",
        "!pip install -q findspark"
      ]
    },
    {
      "cell_type": "code",
      "execution_count": null,
      "metadata": {
        "id": "ksZSlBaML4mt"
      },
      "outputs": [],
      "source": [
        "import os\n",
        "os.environ[\"JAVA_HOME\"] = \"/usr/lib/jvm/java-8-openjdk-amd64\"\n",
        "os.environ[\"SPARK_HOME\"] = \"/content/spark-3.3.2-bin-hadoop2\""
      ]
    },
    {
      "cell_type": "code",
      "execution_count": null,
      "metadata": {
        "id": "1DMAxHw4L9tB"
      },
      "outputs": [],
      "source": [
        "import findspark\n",
        "findspark.init()\n",
        "from pyspark.sql import SparkSession\n",
        "spark = SparkSession.builder.master(\"local[*]\").getOrCreate()"
      ]
    },
    {
      "cell_type": "markdown",
      "metadata": {
        "id": "OViq9VLlRog5"
      },
      "source": [
        "**Validando a configuração do Spark**"
      ]
    },
    {
      "cell_type": "code",
      "execution_count": null,
      "metadata": {
        "colab": {
          "base_uri": "https://localhost:8080/"
        },
        "id": "KU10e71BL_U_",
        "outputId": "4d582b6e-aa95-411a-f616-61d3d340fd2a"
      },
      "outputs": [
        {
          "output_type": "stream",
          "name": "stdout",
          "text": [
            "3.3.2\n"
          ]
        }
      ],
      "source": [
        "import pyspark\n",
        "print(pyspark.__version__)"
      ]
    },
    {
      "cell_type": "markdown",
      "metadata": {
        "id": "mjzEZriQRsrL"
      },
      "source": [
        "**Baixando as informações do Portal da Transparência**"
      ]
    },
    {
      "cell_type": "code",
      "execution_count": null,
      "metadata": {
        "colab": {
          "base_uri": "https://localhost:8080/"
        },
        "id": "8X2UecgblYho",
        "outputId": "cdd5a940-9b56-4e3e-cb1b-ad36cf659d31"
      },
      "outputs": [
        {
          "output_type": "stream",
          "name": "stdout",
          "text": [
            "  % Total    % Received % Xferd  Average Speed   Time    Time     Time  Current\n",
            "                                 Dload  Upload   Total   Spent    Left  Speed\n",
            "100  262M  100  262M    0     0  1619k      0  0:02:45  0:02:45 --:--:-- 1233k\n",
            "  % Total    % Received % Xferd  Average Speed   Time    Time     Time  Current\n",
            "                                 Dload  Upload   Total   Spent    Left  Speed\n",
            "100 74.1M  100 74.1M    0     0   777k      0  0:01:37  0:01:37 --:--:-- 1059k\n",
            "  % Total    % Received % Xferd  Average Speed   Time    Time     Time  Current\n",
            "                                 Dload  Upload   Total   Spent    Left  Speed\n",
            "100 75.2M  100 75.2M    0     0   520k      0  0:02:28  0:02:28 --:--:--  461k\n",
            "  % Total    % Received % Xferd  Average Speed   Time    Time     Time  Current\n",
            "                                 Dload  Upload   Total   Spent    Left  Speed\n",
            "100 81.2M  100 81.2M    0     0   945k      0  0:01:27  0:01:27 --:--:--  566k\n",
            "  % Total    % Received % Xferd  Average Speed   Time    Time     Time  Current\n",
            "                                 Dload  Upload   Total   Spent    Left  Speed\n",
            "100 86.3M  100 86.3M    0     0   726k      0  0:02:01  0:02:01 --:--:-- 1134k\n",
            "  % Total    % Received % Xferd  Average Speed   Time    Time     Time  Current\n",
            "                                 Dload  Upload   Total   Spent    Left  Speed\n",
            "100 93.2M  100 93.2M    0     0  1198k      0  0:01:19  0:01:19 --:--:-- 1168k\n",
            "  % Total    % Received % Xferd  Average Speed   Time    Time     Time  Current\n",
            "                                 Dload  Upload   Total   Spent    Left  Speed\n",
            "100 90.4M  100 90.4M    0     0  1375k      0  0:01:07  0:01:07 --:--:-- 1962k\n",
            "  % Total    % Received % Xferd  Average Speed   Time    Time     Time  Current\n",
            "                                 Dload  Upload   Total   Spent    Left  Speed\n",
            "100 95.0M  100 95.0M    0     0  1957k      0  0:00:49  0:00:49 --:--:-- 2157k\n",
            "  % Total    % Received % Xferd  Average Speed   Time    Time     Time  Current\n",
            "                                 Dload  Upload   Total   Spent    Left  Speed\n",
            "100 95.4M  100 95.4M    0     0  2060k      0  0:00:47  0:00:47 --:--:-- 2402k\n",
            "  % Total    % Received % Xferd  Average Speed   Time    Time     Time  Current\n",
            "                                 Dload  Upload   Total   Spent    Left  Speed\n",
            "100 91.2M  100 91.2M    0     0  2374k      0  0:00:39  0:00:39 --:--:-- 2906k\n"
          ]
        }
      ],
      "source": [
        "!curl -X GET --header 'Accept: application/json' https://dadosabertos.rfb.gov.br/CNPJ/Empresas0.zip > Empresas0.zip\n",
        "!curl -X GET --header 'Accept: application/json' https://dadosabertos.rfb.gov.br/CNPJ/Empresas1.zip > Empresas1.zip\n",
        "!curl -X GET --header 'Accept: application/json' https://dadosabertos.rfb.gov.br/CNPJ/Empresas2.zip > Empresas2.zip\n",
        "!curl -X GET --header 'Accept: application/json' https://dadosabertos.rfb.gov.br/CNPJ/Empresas3.zip > Empresas3.zip\n",
        "!curl -X GET --header 'Accept: application/json' https://dadosabertos.rfb.gov.br/CNPJ/Empresas4.zip > Empresas4.zip\n",
        "!curl -X GET --header 'Accept: application/json' https://dadosabertos.rfb.gov.br/CNPJ/Empresas5.zip > Empresas5.zip\n",
        "!curl -X GET --header 'Accept: application/json' https://dadosabertos.rfb.gov.br/CNPJ/Empresas6.zip > Empresas6.zip\n",
        "!curl -X GET --header 'Accept: application/json' https://dadosabertos.rfb.gov.br/CNPJ/Empresas7.zip > Empresas7.zip\n",
        "!curl -X GET --header 'Accept: application/json' https://dadosabertos.rfb.gov.br/CNPJ/Empresas8.zip > Empresas8.zip\n",
        "!curl -X GET --header 'Accept: application/json' https://dadosabertos.rfb.gov.br/CNPJ/Empresas9.zip > Empresas9.zip"
      ]
    },
    {
      "cell_type": "code",
      "execution_count": null,
      "metadata": {
        "colab": {
          "base_uri": "https://localhost:8080/"
        },
        "id": "YjbnJSCO1iua",
        "outputId": "b7895255-f02f-4eee-be95-1337a4b1dc38"
      },
      "outputs": [
        {
          "output_type": "stream",
          "name": "stdout",
          "text": [
            "Archive:  Empresas0.zip\n",
            "  inflating: K3241.K03200Y0.D30708.EMPRECSV  \n",
            "Archive:  Empresas1.zip\n",
            "  inflating: K3241.K03200Y1.D30708.EMPRECSV  \n",
            "Archive:  Empresas2.zip\n",
            "  inflating: K3241.K03200Y2.D30708.EMPRECSV  \n",
            "Archive:  Empresas3.zip\n",
            "  inflating: K3241.K03200Y3.D30708.EMPRECSV  \n",
            "Archive:  Empresas4.zip\n",
            "  inflating: K3241.K03200Y4.D30708.EMPRECSV  \n",
            "Archive:  Empresas5.zip\n",
            "  inflating: K3241.K03200Y5.D30708.EMPRECSV  \n",
            "Archive:  Empresas6.zip\n",
            "  inflating: K3241.K03200Y6.D30708.EMPRECSV  \n",
            "Archive:  Empresas7.zip\n",
            "  inflating: K3241.K03200Y7.D30708.EMPRECSV  \n",
            "Archive:  Empresas8.zip\n",
            "  inflating: K3241.K03200Y8.D30708.EMPRECSV  \n",
            "Archive:  Empresas9.zip\n",
            "  inflating: K3241.K03200Y9.D30708.EMPRECSV  \n"
          ]
        }
      ],
      "source": [
        "!unzip Empresas0.zip\n",
        "!unzip Empresas1.zip\n",
        "!unzip Empresas2.zip\n",
        "!unzip Empresas3.zip\n",
        "!unzip Empresas4.zip\n",
        "!unzip Empresas5.zip\n",
        "!unzip Empresas6.zip\n",
        "!unzip Empresas7.zip\n",
        "!unzip Empresas8.zip\n",
        "!unzip Empresas9.zip"
      ]
    },
    {
      "cell_type": "code",
      "execution_count": null,
      "metadata": {
        "colab": {
          "base_uri": "https://localhost:8080/"
        },
        "id": "F0xw1SmV1q3W",
        "outputId": "b9bdc512-ae99-43f9-f7cd-18b4c78faa5e"
      },
      "outputs": [
        {
          "output_type": "stream",
          "name": "stdout",
          "text": [
            "Empresas0.zip  Empresas8.zip\t\t       K3241.K03200Y6.D30708.EMPRECSV\n",
            "Empresas1.zip  Empresas9.zip\t\t       K3241.K03200Y7.D30708.EMPRECSV\n",
            "Empresas2.zip  K3241.K03200Y0.D30708.EMPRECSV  K3241.K03200Y8.D30708.EMPRECSV\n",
            "Empresas3.zip  K3241.K03200Y1.D30708.EMPRECSV  K3241.K03200Y9.D30708.EMPRECSV\n",
            "Empresas4.zip  K3241.K03200Y2.D30708.EMPRECSV  spark-3.3.2-bin-hadoop2\n",
            "Empresas5.zip  K3241.K03200Y3.D30708.EMPRECSV  spark-3.3.2-bin-hadoop2.tgz\n",
            "Empresas6.zip  K3241.K03200Y4.D30708.EMPRECSV\n",
            "Empresas7.zip  K3241.K03200Y5.D30708.EMPRECSV\n"
          ]
        }
      ],
      "source": [
        "!ls"
      ]
    },
    {
      "cell_type": "code",
      "execution_count": null,
      "metadata": {
        "colab": {
          "base_uri": "https://localhost:8080/"
        },
        "id": "BhPk8UI02LaY",
        "outputId": "cdd8c96d-b2e2-4295-9da3-8449e7a38da7"
      },
      "outputs": [
        {
          "output_type": "stream",
          "name": "stdout",
          "text": [
            "K3241.K03200Y0.D30708.EMPRECSV\tK3241.K03200Y5.D30708.EMPRECSV\n",
            "K3241.K03200Y1.D30708.EMPRECSV\tK3241.K03200Y6.D30708.EMPRECSV\n",
            "K3241.K03200Y2.D30708.EMPRECSV\tK3241.K03200Y7.D30708.EMPRECSV\n",
            "K3241.K03200Y3.D30708.EMPRECSV\tK3241.K03200Y8.D30708.EMPRECSV\n",
            "K3241.K03200Y4.D30708.EMPRECSV\tK3241.K03200Y9.D30708.EMPRECSV\n"
          ]
        }
      ],
      "source": [
        "!mkdir empresas\n",
        "!mv *CSV* empresas/\n",
        "!ls empresas/"
      ]
    },
    {
      "cell_type": "markdown",
      "metadata": {
        "id": "p5jF98roR6RW"
      },
      "source": [
        "**Tratando e transformando os dados**\n",
        "[texto do link](https://)"
      ]
    },
    {
      "cell_type": "code",
      "execution_count": null,
      "metadata": {
        "id": "LhxJLOeKIUiU",
        "colab": {
          "base_uri": "https://localhost:8080/"
        },
        "outputId": "928d1551-8e61-486d-c0b0-7de544c5e061"
      },
      "outputs": [
        {
          "output_type": "stream",
          "name": "stdout",
          "text": [
            "root\n",
            " |-- _c0: string (nullable = true)\n",
            " |-- _c1: string (nullable = true)\n",
            " |-- _c2: string (nullable = true)\n",
            " |-- _c3: string (nullable = true)\n",
            " |-- _c4: string (nullable = true)\n",
            " |-- _c5: string (nullable = true)\n",
            " |-- _c6: string (nullable = true)\n",
            "\n",
            "+--------+--------------------+----+---+--------+---+----+\n",
            "|     _c0|                 _c1| _c2|_c3|     _c4|_c5| _c6|\n",
            "+--------+--------------------+----+---+--------+---+----+\n",
            "|27499606|PEDRO OSCAR PIAUH...|2135| 50| 1000,00| 01|null|\n",
            "|27499607|POLISERV MAQUINAS...|2062| 49|    0,00| 01|null|\n",
            "|27499608|ROSEMARA ANCELMO ...|2135| 50|15000,00| 01|null|\n",
            "|27499609|ISMAEL COELHO DOS...|2135| 50| 1000,00| 01|null|\n",
            "|27499610|LUCINETE RODRIGUE...|2135| 50|20000,00| 01|null|\n",
            "|27499611|MARCOS VINICIUS D...|2135| 50| 9000,00| 01|null|\n",
            "|27499612|LUIS ANTONIO CAMA...|2135| 50|10000,00| 01|null|\n",
            "|27499613|MARIA DE LOURDES ...|2135| 50|    1,00| 01|null|\n",
            "|27499614|PADARIA E CONFEIT...|2062| 49|30000,00| 01|null|\n",
            "|27499615|ARNO HENRIQUE FLE...|2135| 50|    0,00| 01|null|\n",
            "|27499616|PAULO CLOVIS MOTT...|2321| 65| 5000,00| 05|null|\n",
            "|27499617|CESAR VINICIUS PE...|2135| 50|  100,00| 01|null|\n",
            "|27499618|WILSON DE CAMPOS ...|2135| 50|    1,00| 01|null|\n",
            "|27499619|WOJCIECH SWIECH 2...|2135| 50| 2000,00| 01|null|\n",
            "|27499620|INSTITUTO PEQUENO...|3999| 16|    0,00| 05|null|\n",
            "|27499621|JULIANA APARECIDA...|2135| 50| 3000,00| 01|null|\n",
            "|27499622|WILMA CORTE DA SI...|2135| 50| 1000,00| 01|null|\n",
            "|27499623|        PEDRO ANGELO|2135| 50|    0,00| 05|null|\n",
            "|27499624|SUELI TRESCO DA S...|2135| 50| 5000,00| 01|null|\n",
            "|27499625|LUIZ ALMEIDA DE S...|2135| 50| 5000,00| 01|null|\n",
            "+--------+--------------------+----+---+--------+---+----+\n",
            "only showing top 20 rows\n",
            "\n"
          ]
        }
      ],
      "source": [
        "sc = spark.sparkContext\n",
        "path = \"/content/empresas/*\"\n",
        "df = spark.read.option(\"delimiter\", \";\").csv(path)\n",
        "df.printSchema()\n",
        "df.show()"
      ]
    },
    {
      "cell_type": "code",
      "execution_count": null,
      "metadata": {
        "id": "cqLO-QT_9fHc"
      },
      "outputs": [],
      "source": [
        "dfTratado = df.selectExpr(\"_c0 as CNPJ\",\"_c1 as RAZAO_SOCIAL\",\"_c2 as NATUREZA_JURIDICA\",\"_c3 as QUALIFICACAO_RESPONSAVEL\",\"_c4 as CAPITAL_SOCIAL\",\"_c5 as PORTE_EMPRESA\",\"_c6 as ENTE_FEDERATIVO\")"
      ]
    },
    {
      "cell_type": "code",
      "execution_count": null,
      "metadata": {
        "colab": {
          "base_uri": "https://localhost:8080/"
        },
        "id": "71v_FSLKM5JA",
        "outputId": "9693a67f-8a23-4af1-ad32-5c2cecdd412b"
      },
      "outputs": [
        {
          "output_type": "stream",
          "name": "stdout",
          "text": [
            "+--------+--------------------+-----------------+------------------------+--------------+-------------+---------------+\n",
            "|    CNPJ|        RAZAO_SOCIAL|NATUREZA_JURIDICA|QUALIFICACAO_RESPONSAVEL|CAPITAL_SOCIAL|PORTE_EMPRESA|ENTE_FEDERATIVO|\n",
            "+--------+--------------------+-----------------+------------------------+--------------+-------------+---------------+\n",
            "|31665387|ROX PARTNER SERVI...|             2054|                      10|    1000185,00|           05|           null|\n",
            "+--------+--------------------+-----------------+------------------------+--------------+-------------+---------------+\n",
            "\n"
          ]
        }
      ],
      "source": [
        "dfTratado.createOrReplaceTempView(\"empresas\")\n",
        "\n",
        "sqlDF = spark.sql(\"select * from empresas where RAZAO_SOCIAL like '%IMPACTA%'\")\n",
        "sqlDF.show()"
      ]
    },
    {
      "cell_type": "code",
      "source": [
        "from google.colab import files\n",
        "empresas_carteira_comercial = files.upload()"
      ],
      "metadata": {
        "colab": {
          "base_uri": "https://localhost:8080/",
          "height": 73
        },
        "id": "cTQOFwbAr24R",
        "outputId": "ca7011b2-56f2-48e4-be68-bccf78cdc9e6"
      },
      "execution_count": null,
      "outputs": [
        {
          "output_type": "display_data",
          "data": {
            "text/plain": [
              "<IPython.core.display.HTML object>"
            ],
            "text/html": [
              "\n",
              "     <input type=\"file\" id=\"files-dedd2376-4853-48e6-9fd7-8109a16ff1fc\" name=\"files[]\" multiple disabled\n",
              "        style=\"border:none\" />\n",
              "     <output id=\"result-dedd2376-4853-48e6-9fd7-8109a16ff1fc\">\n",
              "      Upload widget is only available when the cell has been executed in the\n",
              "      current browser session. Please rerun this cell to enable.\n",
              "      </output>\n",
              "      <script>// Copyright 2017 Google LLC\n",
              "//\n",
              "// Licensed under the Apache License, Version 2.0 (the \"License\");\n",
              "// you may not use this file except in compliance with the License.\n",
              "// You may obtain a copy of the License at\n",
              "//\n",
              "//      http://www.apache.org/licenses/LICENSE-2.0\n",
              "//\n",
              "// Unless required by applicable law or agreed to in writing, software\n",
              "// distributed under the License is distributed on an \"AS IS\" BASIS,\n",
              "// WITHOUT WARRANTIES OR CONDITIONS OF ANY KIND, either express or implied.\n",
              "// See the License for the specific language governing permissions and\n",
              "// limitations under the License.\n",
              "\n",
              "/**\n",
              " * @fileoverview Helpers for google.colab Python module.\n",
              " */\n",
              "(function(scope) {\n",
              "function span(text, styleAttributes = {}) {\n",
              "  const element = document.createElement('span');\n",
              "  element.textContent = text;\n",
              "  for (const key of Object.keys(styleAttributes)) {\n",
              "    element.style[key] = styleAttributes[key];\n",
              "  }\n",
              "  return element;\n",
              "}\n",
              "\n",
              "// Max number of bytes which will be uploaded at a time.\n",
              "const MAX_PAYLOAD_SIZE = 100 * 1024;\n",
              "\n",
              "function _uploadFiles(inputId, outputId) {\n",
              "  const steps = uploadFilesStep(inputId, outputId);\n",
              "  const outputElement = document.getElementById(outputId);\n",
              "  // Cache steps on the outputElement to make it available for the next call\n",
              "  // to uploadFilesContinue from Python.\n",
              "  outputElement.steps = steps;\n",
              "\n",
              "  return _uploadFilesContinue(outputId);\n",
              "}\n",
              "\n",
              "// This is roughly an async generator (not supported in the browser yet),\n",
              "// where there are multiple asynchronous steps and the Python side is going\n",
              "// to poll for completion of each step.\n",
              "// This uses a Promise to block the python side on completion of each step,\n",
              "// then passes the result of the previous step as the input to the next step.\n",
              "function _uploadFilesContinue(outputId) {\n",
              "  const outputElement = document.getElementById(outputId);\n",
              "  const steps = outputElement.steps;\n",
              "\n",
              "  const next = steps.next(outputElement.lastPromiseValue);\n",
              "  return Promise.resolve(next.value.promise).then((value) => {\n",
              "    // Cache the last promise value to make it available to the next\n",
              "    // step of the generator.\n",
              "    outputElement.lastPromiseValue = value;\n",
              "    return next.value.response;\n",
              "  });\n",
              "}\n",
              "\n",
              "/**\n",
              " * Generator function which is called between each async step of the upload\n",
              " * process.\n",
              " * @param {string} inputId Element ID of the input file picker element.\n",
              " * @param {string} outputId Element ID of the output display.\n",
              " * @return {!Iterable<!Object>} Iterable of next steps.\n",
              " */\n",
              "function* uploadFilesStep(inputId, outputId) {\n",
              "  const inputElement = document.getElementById(inputId);\n",
              "  inputElement.disabled = false;\n",
              "\n",
              "  const outputElement = document.getElementById(outputId);\n",
              "  outputElement.innerHTML = '';\n",
              "\n",
              "  const pickedPromise = new Promise((resolve) => {\n",
              "    inputElement.addEventListener('change', (e) => {\n",
              "      resolve(e.target.files);\n",
              "    });\n",
              "  });\n",
              "\n",
              "  const cancel = document.createElement('button');\n",
              "  inputElement.parentElement.appendChild(cancel);\n",
              "  cancel.textContent = 'Cancel upload';\n",
              "  const cancelPromise = new Promise((resolve) => {\n",
              "    cancel.onclick = () => {\n",
              "      resolve(null);\n",
              "    };\n",
              "  });\n",
              "\n",
              "  // Wait for the user to pick the files.\n",
              "  const files = yield {\n",
              "    promise: Promise.race([pickedPromise, cancelPromise]),\n",
              "    response: {\n",
              "      action: 'starting',\n",
              "    }\n",
              "  };\n",
              "\n",
              "  cancel.remove();\n",
              "\n",
              "  // Disable the input element since further picks are not allowed.\n",
              "  inputElement.disabled = true;\n",
              "\n",
              "  if (!files) {\n",
              "    return {\n",
              "      response: {\n",
              "        action: 'complete',\n",
              "      }\n",
              "    };\n",
              "  }\n",
              "\n",
              "  for (const file of files) {\n",
              "    const li = document.createElement('li');\n",
              "    li.append(span(file.name, {fontWeight: 'bold'}));\n",
              "    li.append(span(\n",
              "        `(${file.type || 'n/a'}) - ${file.size} bytes, ` +\n",
              "        `last modified: ${\n",
              "            file.lastModifiedDate ? file.lastModifiedDate.toLocaleDateString() :\n",
              "                                    'n/a'} - `));\n",
              "    const percent = span('0% done');\n",
              "    li.appendChild(percent);\n",
              "\n",
              "    outputElement.appendChild(li);\n",
              "\n",
              "    const fileDataPromise = new Promise((resolve) => {\n",
              "      const reader = new FileReader();\n",
              "      reader.onload = (e) => {\n",
              "        resolve(e.target.result);\n",
              "      };\n",
              "      reader.readAsArrayBuffer(file);\n",
              "    });\n",
              "    // Wait for the data to be ready.\n",
              "    let fileData = yield {\n",
              "      promise: fileDataPromise,\n",
              "      response: {\n",
              "        action: 'continue',\n",
              "      }\n",
              "    };\n",
              "\n",
              "    // Use a chunked sending to avoid message size limits. See b/62115660.\n",
              "    let position = 0;\n",
              "    do {\n",
              "      const length = Math.min(fileData.byteLength - position, MAX_PAYLOAD_SIZE);\n",
              "      const chunk = new Uint8Array(fileData, position, length);\n",
              "      position += length;\n",
              "\n",
              "      const base64 = btoa(String.fromCharCode.apply(null, chunk));\n",
              "      yield {\n",
              "        response: {\n",
              "          action: 'append',\n",
              "          file: file.name,\n",
              "          data: base64,\n",
              "        },\n",
              "      };\n",
              "\n",
              "      let percentDone = fileData.byteLength === 0 ?\n",
              "          100 :\n",
              "          Math.round((position / fileData.byteLength) * 100);\n",
              "      percent.textContent = `${percentDone}% done`;\n",
              "\n",
              "    } while (position < fileData.byteLength);\n",
              "  }\n",
              "\n",
              "  // All done.\n",
              "  yield {\n",
              "    response: {\n",
              "      action: 'complete',\n",
              "    }\n",
              "  };\n",
              "}\n",
              "\n",
              "scope.google = scope.google || {};\n",
              "scope.google.colab = scope.google.colab || {};\n",
              "scope.google.colab._files = {\n",
              "  _uploadFiles,\n",
              "  _uploadFilesContinue,\n",
              "};\n",
              "})(self);\n",
              "</script> "
            ]
          },
          "metadata": {}
        },
        {
          "output_type": "stream",
          "name": "stdout",
          "text": [
            "Saving empresas_carteira_comercial.CSV to empresas_carteira_comercial.CSV\n"
          ]
        }
      ]
    },
    {
      "cell_type": "code",
      "source": [
        "path = \"empresas_carteira_comercial.CSV\"\n",
        "df_carteira_comercial = spark.read.option(\"delimiter\", \";\").csv(path)\n",
        "df_carteira_comercial.printSchema()\n",
        "df_carteira_comercial.show()"
      ],
      "metadata": {
        "id": "uI0IPotSr8o-"
      },
      "execution_count": null,
      "outputs": []
    },
    {
      "cell_type": "code",
      "source": [
        "dfCarteiraComercialTratado = df_carteira_comercial.selectExpr(\"substr(replace(_c0, '.', ''),0,8) as CNPJ\")"
      ],
      "metadata": {
        "id": "4GkqRF0z6Rr3"
      },
      "execution_count": null,
      "outputs": []
    },
    {
      "cell_type": "code",
      "source": [
        "dfCarteiraComercialTratado.createOrReplaceTempView(\"clientes_carteira\")\n",
        "\n",
        "sqlDF = spark.sql(\"select * from clientes_carteira\")\n",
        "sqlDF.show()"
      ],
      "metadata": {
        "id": "p439_eOJ5-AD"
      },
      "execution_count": null,
      "outputs": []
    },
    {
      "cell_type": "code",
      "source": [
        "sqlDF = spark.sql(\"select empresas.* from empresas as empresas, clientes_carteira as clientes where  empresas.CNPJ=clientes.CNPJ order by CAPITAL_SOCIAL desc\")\n",
        "sqlDF.show(200)"
      ],
      "metadata": {
        "id": "wxvDxy1_8DHX"
      },
      "execution_count": null,
      "outputs": []
    },
    {
      "cell_type": "code",
      "source": [
        "df_pandas = sqlDF.toPandas()"
      ],
      "metadata": {
        "id": "ICQlc4BU--Po"
      },
      "execution_count": null,
      "outputs": []
    },
    {
      "cell_type": "code",
      "execution_count": null,
      "metadata": {
        "id": "ZncPnMVIPHBg"
      },
      "outputs": [],
      "source": [
        "df_pandas.to_csv(\"empresas_filtrado.csv\")"
      ]
    }
  ],
  "metadata": {
    "colab": {
      "provenance": [],
      "include_colab_link": true
    },
    "kernelspec": {
      "display_name": "Python 3",
      "name": "python3"
    }
  },
  "nbformat": 4,
  "nbformat_minor": 0
}